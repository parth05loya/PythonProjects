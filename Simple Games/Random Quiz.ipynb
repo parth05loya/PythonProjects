{
 "cells": [
  {
   "cell_type": "code",
   "execution_count": null,
   "id": "773c29d6-a3a3-4e23-aa24-d1f377a72267",
   "metadata": {},
   "outputs": [
    {
     "name": "stdin",
     "output_type": "stream",
     "text": [
      "How many planets are there in our solar system? Eight\n"
     ]
    },
    {
     "name": "stdout",
     "output_type": "stream",
     "text": [
      "Correct answer\n"
     ]
    },
    {
     "name": "stdin",
     "output_type": "stream",
     "text": [
      "Do you want to play again : Yes or No Yes\n",
      "What is the capital of India? New Delhi\n"
     ]
    },
    {
     "name": "stdout",
     "output_type": "stream",
     "text": [
      "Correct answer\n"
     ]
    },
    {
     "name": "stdin",
     "output_type": "stream",
     "text": [
      "Do you want to play again : Yes or No Yes\n",
      "How many planets are there in our solar system? Nine\n"
     ]
    },
    {
     "name": "stdout",
     "output_type": "stream",
     "text": [
      "Wrong answer\n"
     ]
    }
   ],
   "source": [
    "#Create a quiz game. Everytime function is called it asks a question. You need to given answer. \n",
    "#if the answer is correct. you win else you loose. \n",
    "#then it asks if you want to play again\n",
    "\n",
    "import random\n",
    "\n",
    "#Creating a dictonary of question and answer\n",
    "quiz = {'Who is President of India?' : 'Draupadi Murmu', 'What is the capital of India?':'New Delhi', 'Who is the richest person of India?' : 'Mukesh Ambani', 'How many planets are there in our solar system?':'Eight'}\n",
    "\n",
    "game = True \n",
    "while game:\n",
    "    #randomly generate a number\n",
    "    number = random.randint(0, len(quiz)-1)\n",
    "    \n",
    "    #ask question\n",
    "    #get response\n",
    "    answer = input(list(quiz.keys())[number])\n",
    "    \n",
    "    #answer validation\n",
    "    if answer == list(quiz.values())[number]:\n",
    "        print(\"Correct answer\")\n",
    "    else:\n",
    "        print(\"Wrong answer\")\n",
    "    \n",
    "    #Check if user wants to keep playing?\n",
    "    play = input(\"Do you want to play again : Yes or No\")\n",
    "    if play == 'Yes':\n",
    "        game = True\n",
    "    else:\n",
    "        game = False"
   ]
  },
  {
   "cell_type": "code",
   "execution_count": null,
   "id": "e3e09010-6b63-4abc-8e19-f7c11925b862",
   "metadata": {},
   "outputs": [],
   "source": []
  },
  {
   "cell_type": "code",
   "execution_count": null,
   "id": "e7ce097a-4fc1-421f-b0d9-11e6718db804",
   "metadata": {},
   "outputs": [],
   "source": []
  }
 ],
 "metadata": {
  "kernelspec": {
   "display_name": "Python 3 (ipykernel)",
   "language": "python",
   "name": "python3"
  },
  "language_info": {
   "codemirror_mode": {
    "name": "ipython",
    "version": 3
   },
   "file_extension": ".py",
   "mimetype": "text/x-python",
   "name": "python",
   "nbconvert_exporter": "python",
   "pygments_lexer": "ipython3",
   "version": "3.11.7"
  }
 },
 "nbformat": 4,
 "nbformat_minor": 5
}
