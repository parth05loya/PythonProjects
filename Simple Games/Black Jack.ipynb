{
 "cells": [
  {
   "cell_type": "code",
   "execution_count": 1,
   "id": "f3359193-0f8a-44bb-acdf-7512ed6e8590",
   "metadata": {},
   "outputs": [],
   "source": [
    "import random\n",
    "suits = ['Hearts', 'Club', 'Spade', 'Diamonds']\n",
    "ranks = ['Two', 'Three', 'Four', 'Five', 'Six', 'Seven', 'Eight', 'Nine', 'Ten', 'Jack', 'Queen', 'King', 'Ace']\n",
    "Values = {'Two':2, 'Three':3, 'Four':4, 'Five':5, 'Six':6, 'Seven':7, 'Eight':8, 'Nine':9, 'Ten':10, 'Jack':10, 'Queen':10, 'King':10, 'Ace':11}\n",
    "\n",
    "class Card:\n",
    "    def __init__(self, suit, rank):\n",
    "        self.suit = suit\n",
    "        self.rank = rank\n",
    "        self.value = Values[rank]\n",
    "\n",
    "    def __str__(self):\n",
    "        return self.suit + \" of \" + self.rank \n",
    "\n",
    "class Deck:\n",
    "    def __init__(self):\n",
    "        self.deck = []\n",
    "        for suit in suits:\n",
    "            for rank in ranks:\n",
    "                card = Card(suit,rank)\n",
    "                self.deck.append(card)\n",
    "\n",
    "    def shuffle(self):\n",
    "        random.shuffle(self.deck)\n",
    "\n",
    "    def draw(self):\n",
    "        return self.deck.pop()\n",
    "\n",
    "\n",
    "class Chips:\n",
    "\n",
    "    #This function creates an opening balance by specifying a number\n",
    "    def __init__ (self, amount):\n",
    "        self.balance = amount\n",
    "\n",
    "    #This function creates a bet by specifying a number\n",
    "    def bet(self, value):\n",
    "        self.stake = value\n",
    "        if value <= self.balance:\n",
    "            pass\n",
    "        else:\n",
    "            print(\"Insufficient Balance!\")\n",
    "\n",
    "    def __str__ (self):\n",
    "        return \"{} chips available\".format(self.balance)\n",
    "\n",
    "    #This function will be called when player wins the bet\n",
    "    def win_bet(self):\n",
    "        self.balance += 1.5*self.stake #Balance is increased by 1.5 times the bet\n",
    "\n",
    "    #This function will be called when player looses a bet\n",
    "    def loose_bet(self):\n",
    "        self.balance -= self.stake #Balance is decreased by the bet\n",
    "\n",
    "# Check whether anyone is busted\n",
    "def check_bust(cards_list):\n",
    "    sum = 0\n",
    "    for card in cards_list:\n",
    "        sum += card.value\n",
    "    \n",
    "    if sum >= 21:\n",
    "        for card in cards_list:\n",
    "            if card.rank == 'Ace':\n",
    "                sum -= 10\n",
    "        if sum >= 21:\n",
    "            return True\n",
    "        else:\n",
    "            return False\n",
    "    else:\n",
    "        return False\n",
    "    \n",
    "#Function to sum the value of cards in a given cards list \n",
    "def sum_cards(cards_list):\n",
    "    sum = 0\n",
    "    for card in cards_list:\n",
    "        sum += card.value\n",
    "    return sum\n",
    "\n",
    "\n",
    "#check for the winner whose sum is more than other\n",
    "def check_first_winner(player_cards, dealer_cards):\n",
    "    if sum_cards(player_cards) > sum_cards(dealer_cards):\n",
    "        return True\n",
    "    else:\n",
    "        return False \n",
    "        "
   ]
  },
  {
   "cell_type": "code",
   "execution_count": 2,
   "id": "ec60c2e4-4bc6-454a-9028-b8ddd500abfc",
   "metadata": {},
   "outputs": [
    {
     "name": "stdin",
     "output_type": "stream",
     "text": [
      "how many chips would you like to buy? 200\n",
      "How many chips would you bet? 50\n"
     ]
    },
    {
     "name": "stdout",
     "output_type": "stream",
     "text": [
      "Let's start the game\n",
      "Diamonds of Ace\n",
      "Diamonds of Eight\n",
      "You got None and None\n",
      "Sum of Players' cards is 19\n",
      "Diamonds of Four\n",
      "Dealer got None\n",
      "Sum of Dealers' cards is 4\n"
     ]
    },
    {
     "name": "stdin",
     "output_type": "stream",
     "text": [
      "Pick one - \"hit\" or \"Stay\" Stay\n"
     ]
    },
    {
     "name": "stdout",
     "output_type": "stream",
     "text": [
      "Dealer's new card is Spade of Seven\n",
      "Sum of Dealers' cards is 11\n"
     ]
    },
    {
     "name": "stdin",
     "output_type": "stream",
     "text": [
      "Pick one - \"hit\" or \"Stay\" Stay\n"
     ]
    },
    {
     "name": "stdout",
     "output_type": "stream",
     "text": [
      "Dealer's new card is Spade of King\n",
      "Sum of Dealers' cards is 21\n",
      "Dealer busted!\n",
      "You currently have 275.0 chips left\n"
     ]
    },
    {
     "name": "stdin",
     "output_type": "stream",
     "text": [
      "Do you want to continue playing:  Yes or No ? Yes\n",
      "How many chips would you bet? 200\n"
     ]
    },
    {
     "name": "stdout",
     "output_type": "stream",
     "text": [
      "Let's start the game\n",
      "Hearts of Seven\n",
      "Hearts of Jack\n",
      "You got None and None\n",
      "Sum of Players' cards is 17\n",
      "Hearts of Eight\n",
      "Dealer got None\n",
      "Sum of Dealers' cards is 8\n"
     ]
    },
    {
     "name": "stdin",
     "output_type": "stream",
     "text": [
      "Pick one - \"hit\" or \"Stay\" hit\n"
     ]
    },
    {
     "name": "stdout",
     "output_type": "stream",
     "text": [
      "Spade of Four\n",
      "Your new card is None\n",
      "Sum of Players' cards is 21\n",
      "Player busted!\n",
      "You currently have 75.0 chips left\n"
     ]
    },
    {
     "name": "stdin",
     "output_type": "stream",
     "text": [
      "Do you want to continue playing:  Yes or No ? Yes\n",
      "How many chips would you bet? 10\n"
     ]
    },
    {
     "name": "stdout",
     "output_type": "stream",
     "text": [
      "Let's start the game\n",
      "Spade of Two\n",
      "Club of Six\n",
      "You got None and None\n",
      "Sum of Players' cards is 8\n",
      "Diamonds of Nine\n",
      "Dealer got None\n",
      "Sum of Dealers' cards is 9\n"
     ]
    },
    {
     "name": "stdin",
     "output_type": "stream",
     "text": [
      "Pick one - \"hit\" or \"Stay\" hit\n"
     ]
    },
    {
     "name": "stdout",
     "output_type": "stream",
     "text": [
      "Hearts of Ace\n",
      "Your new card is None\n",
      "Sum of Players' cards is 19\n"
     ]
    },
    {
     "name": "stdin",
     "output_type": "stream",
     "text": [
      "Pick one - \"hit\" or \"Stay\" Stay\n"
     ]
    },
    {
     "name": "stdout",
     "output_type": "stream",
     "text": [
      "Dealer's new card is Spade of Six\n",
      "Sum of Dealers' cards is 15\n"
     ]
    },
    {
     "name": "stdin",
     "output_type": "stream",
     "text": [
      "Pick one - \"hit\" or \"Stay\" Stay\n"
     ]
    },
    {
     "name": "stdout",
     "output_type": "stream",
     "text": [
      "Dealer's new card is Club of Five\n",
      "Sum of Dealers' cards is 20\n",
      "Dealer won!\n",
      "You currently have 65.0 chips left\n"
     ]
    },
    {
     "name": "stdin",
     "output_type": "stream",
     "text": [
      "Do you want to continue playing:  Yes or No ? No\n"
     ]
    }
   ],
   "source": [
    "#Asking user to buy chips\n",
    "number = int(input(\"how many chips would you like to buy?\"))\n",
    "player_chips = Chips(number)\n",
    "\n",
    "game = True\n",
    "while game:\n",
    "    #creating and shuffling deck\n",
    "    new_deck = Deck()\n",
    "    new_deck.shuffle()\n",
    "    \n",
    "    #Distributing cards and starting up game\n",
    "    player_cards = []\n",
    "    dealer_cards = []\n",
    "    \n",
    "    #Asking user for bet\n",
    "    number2 = int(input(\"How many chips would you bet?\"))\n",
    "    player_chips.bet(number2)\n",
    "    if player_chips.stake > player_chips.balance:\n",
    "        game = False\n",
    "        break\n",
    "    \n",
    "    #Initializing game\n",
    "    print(\"Let's start the game\")\n",
    "    player_cards.append(new_deck.draw())\n",
    "    player_cards.append(new_deck.draw())\n",
    "    print(\"You got {} and {}\".format(print(player_cards[0]),print(player_cards[1])))\n",
    "    print(\"Sum of Players\\' cards is {}\".format(sum_cards(player_cards)))\n",
    "    dealer_cards.append(new_deck.draw())\n",
    "    print(\"Dealer got {}\".format(print(dealer_cards[0])))\n",
    "    print(\"Sum of Dealers\\' cards is {}\".format(sum_cards(dealer_cards)))\n",
    "    \n",
    "          \n",
    "    #while check bust == False\n",
    "    while check_bust(player_cards) == False and check_bust(dealer_cards) == False:\n",
    "        response = input(\"Pick one - \\\"hit\\\" or \\\"Stay\\\"\")\n",
    "        if response == \"hit\":\n",
    "            player_cards.append(new_deck.draw())\n",
    "            print(\"Your new card is {}\".format(print(player_cards[-1])))\n",
    "            print(\"Sum of Players\\' cards is {}\".format(sum_cards(player_cards)))\n",
    "            if check_bust(player_cards) == True:\n",
    "                print(\"Player busted!\")\n",
    "                player_chips.loose_bet()\n",
    "                break\n",
    "                \n",
    "        elif response == \"Stay\":\n",
    "            dealer_cards.append(new_deck.draw())\n",
    "            print(\"Dealer's new card is {}\".format(dealer_cards[-1]))\n",
    "            print(\"Sum of Dealers\\' cards is {}\".format(sum_cards(dealer_cards)))\n",
    "            if check_bust(dealer_cards) == True:\n",
    "                print(\"Dealer busted!\")\n",
    "                player_chips.win_bet() \n",
    "                break\n",
    "            elif sum_cards(dealer_cards) >= 17 and sum_cards(dealer_cards) <= 21:\n",
    "                print(\"Dealer won!\")\n",
    "                player_chips.loose_bet()\n",
    "                break\n",
    "                \n",
    "    print(\"You currently have {} chips left\".format(player_chips.balance))\n",
    "    continue_playing = input(\"Do you want to continue playing:  Yes or No ?\")\n",
    "    if continue_playing == 'Yes':\n",
    "        game = True\n",
    "    else:\n",
    "        game = False"
   ]
  },
  {
   "cell_type": "code",
   "execution_count": null,
   "id": "241241a4-88ef-4f5e-9a26-ebcf859cdbf7",
   "metadata": {},
   "outputs": [],
   "source": []
  },
  {
   "cell_type": "code",
   "execution_count": null,
   "id": "3c96de9f-defc-47ed-82d7-e1b6bf6c2c5b",
   "metadata": {},
   "outputs": [],
   "source": []
  }
 ],
 "metadata": {
  "kernelspec": {
   "display_name": "Python 3 (ipykernel)",
   "language": "python",
   "name": "python3"
  },
  "language_info": {
   "codemirror_mode": {
    "name": "ipython",
    "version": 3
   },
   "file_extension": ".py",
   "mimetype": "text/x-python",
   "name": "python",
   "nbconvert_exporter": "python",
   "pygments_lexer": "ipython3",
   "version": "3.11.7"
  }
 },
 "nbformat": 4,
 "nbformat_minor": 5
}
