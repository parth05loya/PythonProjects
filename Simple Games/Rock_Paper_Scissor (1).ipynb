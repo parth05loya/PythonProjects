{
 "cells": [
  {
   "cell_type": "code",
   "execution_count": 17,
   "id": "2de28a42-0803-49c6-b273-341657ee8bf5",
   "metadata": {},
   "outputs": [],
   "source": [
    "def ask_player_to_choose():\n",
    "    player_choice = ''\n",
    "    while player_choice not in ['Rock', 'Paper', 'Scissor']:\n",
    "        player_choice = input(\"Select Rock, Paper or Scissor : \")\n",
    "    return player_choice\n",
    "\n",
    "def check_winner(player_choice):\n",
    "    computer_choice = random.choice(['Rock', 'Paper', 'Scissor'])\n",
    "    if player_choice == 'Rock' and computer_choice == 'Rock':\n",
    "        print(\"Computer Selected {} . It's a tie\".format(computer_choice))\n",
    "    if player_choice == 'Paper' and computer_choice == 'Paper':\n",
    "        print(\"Computer Selected {} . It's a tie\".format(computer_choice))\n",
    "    if player_choice == 'Scissor' and computer_choice == 'Scissor':\n",
    "        print(\"Computer Selected {} . It's a tie\".format(computer_choice))\n",
    "    if player_choice == 'Rock' and computer_choice == 'Paper':\n",
    "        print(\"Computer Selected {} . Computer Won\".format(computer_choice))\n",
    "    if player_choice == 'Rock' and computer_choice == 'Scissor':\n",
    "        print(\"Computer Selected {} . You Won\".format(computer_choice))\n",
    "    if player_choice == 'Paper' and computer_choice == 'Rock':\n",
    "        print(\"Computer Selected {} . You Won\".format(computer_choice))\n",
    "    if player_choice == 'Paper' and computer_choice == 'Scissor':\n",
    "        print(\"Computer Selected {} . Computer Won\".format(computer_choice))\n",
    "    if player_choice == 'Scissor' and computer_choice == 'Rock':\n",
    "        print(\"Computer Selected {} . Computer Won\".format(computer_choice))\n",
    "    if player_choice == 'Scissor' and computer_choice == 'Paper':\n",
    "        print(\"Computer Selected {} . You Won\".format(computer_choice))\n",
    "\n",
    "def replay():\n",
    "    response = ''\n",
    "    while response not in ['Y','N']:\n",
    "        response = input(\"Do you want to play again: Y or N ? \").upper()\n",
    "    if response == 'Y':\n",
    "        return True\n",
    "    else:\n",
    "        return False \n",
    "\n",
    "def game():\n",
    "    game = True\n",
    "    while game:\n",
    "        player_choice = ask_player_to_choose()\n",
    "        check_winner(player_choice)\n",
    "        game = replay()\n",
    "\n",
    "    "
   ]
  },
  {
   "cell_type": "code",
   "execution_count": 19,
   "id": "75d7c8f0-116e-4f93-89bb-3d941d5d74b6",
   "metadata": {},
   "outputs": [
    {
     "name": "stdin",
     "output_type": "stream",
     "text": [
      "Select Rock, Paper or Scissor :  Rock\n"
     ]
    },
    {
     "name": "stdout",
     "output_type": "stream",
     "text": [
      "Computer Selected Paper . Computer Won\n"
     ]
    },
    {
     "name": "stdin",
     "output_type": "stream",
     "text": [
      "Do you want to play again: Y or N ?  Y\n",
      "Select Rock, Paper or Scissor :  Paper\n"
     ]
    },
    {
     "name": "stdout",
     "output_type": "stream",
     "text": [
      "Computer Selected Rock . You Won\n"
     ]
    },
    {
     "name": "stdin",
     "output_type": "stream",
     "text": [
      "Do you want to play again: Y or N ?  N\n"
     ]
    }
   ],
   "source": []
  },
  {
   "cell_type": "code",
   "execution_count": null,
   "id": "5ef6d819-e57f-4d36-89a5-91039548bc46",
   "metadata": {},
   "outputs": [],
   "source": []
  }
 ],
 "metadata": {
  "kernelspec": {
   "display_name": "Python 3 (ipykernel)",
   "language": "python",
   "name": "python3"
  },
  "language_info": {
   "codemirror_mode": {
    "name": "ipython",
    "version": 3
   },
   "file_extension": ".py",
   "mimetype": "text/x-python",
   "name": "python",
   "nbconvert_exporter": "python",
   "pygments_lexer": "ipython3",
   "version": "3.11.7"
  }
 },
 "nbformat": 4,
 "nbformat_minor": 5
}
