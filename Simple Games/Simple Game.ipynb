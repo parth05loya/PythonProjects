{
 "cells": [
  {
   "cell_type": "code",
   "execution_count": 8,
   "id": "8fafa3ce-082e-4836-8d60-1ba4d00838ed",
   "metadata": {},
   "outputs": [],
   "source": [
    "def ask_user_choice():\n",
    "    mylist = [0,1,2]\n",
    "    while True:\n",
    "        number = int(input(\"Pick up the position to replace {}: \".format(mylist)))\n",
    "        if number in range(len(mylist)):\n",
    "                 string1 = input(\"Type a string to place at that position :\")\n",
    "                 mylist[number] = string1\n",
    "                 print(mylist)\n",
    "                 continue_game = input(\"Would you like to continue playing? Y or N : \")\n",
    "                 if continue_game == 'Y':\n",
    "                     continue\n",
    "                 else:\n",
    "                     break\n",
    "        else:\n",
    "            print(\"Sorry but you did not choose a valid position\")\n",
    "            continue\n"
   ]
  },
  {
   "cell_type": "code",
   "execution_count": null,
   "id": "4347ce62-6b9f-4c5b-a028-7e286e60cd32",
   "metadata": {},
   "outputs": [
    {
     "name": "stdin",
     "output_type": "stream",
     "text": [
      "Pick up the position to replace [0, 1, 2]:  10\n"
     ]
    },
    {
     "name": "stdout",
     "output_type": "stream",
     "text": [
      "Sorry but you did not choose a valid position\n"
     ]
    },
    {
     "name": "stdin",
     "output_type": "stream",
     "text": [
      "Pick up the position to replace [0, 1, 2]:  2\n",
      "Type a string to place at that position : brand new\n"
     ]
    },
    {
     "name": "stdout",
     "output_type": "stream",
     "text": [
      "[0, 1, 'brand new']\n"
     ]
    },
    {
     "name": "stdin",
     "output_type": "stream",
     "text": [
      "Would you like to continue playing? Y or N :  Y\n",
      "Pick up the position to replace [0, 1, 'brand new']:  1\n",
      "Type a string to place at that position : hello\n"
     ]
    },
    {
     "name": "stdout",
     "output_type": "stream",
     "text": [
      "[0, 'hello', 'brand new']\n"
     ]
    },
    {
     "name": "stdin",
     "output_type": "stream",
     "text": [
      "Would you like to continue playing? Y or N :  Y\n",
      "Pick up the position to replace [0, 'hello', 'brand new']:  0\n",
      "Type a string to place at that position : ferrari\n"
     ]
    },
    {
     "name": "stdout",
     "output_type": "stream",
     "text": [
      "['ferrari', 'hello', 'brand new']\n"
     ]
    }
   ],
   "source": [
    "ask_user_choice()"
   ]
  },
  {
   "cell_type": "code",
   "execution_count": null,
   "id": "fc1286ec-4381-409c-a346-3c504009e45e",
   "metadata": {},
   "outputs": [],
   "source": []
  }
 ],
 "metadata": {
  "kernelspec": {
   "display_name": "Python 3 (ipykernel)",
   "language": "python",
   "name": "python3"
  },
  "language_info": {
   "codemirror_mode": {
    "name": "ipython",
    "version": 3
   },
   "file_extension": ".py",
   "mimetype": "text/x-python",
   "name": "python",
   "nbconvert_exporter": "python",
   "pygments_lexer": "ipython3",
   "version": "3.11.7"
  }
 },
 "nbformat": 4,
 "nbformat_minor": 5
}
