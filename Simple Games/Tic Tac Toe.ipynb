{
 "cells": [
  {
   "cell_type": "code",
   "execution_count": 1,
   "id": "8fafa3ce-082e-4836-8d60-1ba4d00838ed",
   "metadata": {},
   "outputs": [],
   "source": [
    "def ask_user_X_or_O():\n",
    "    print(\"Welcome to Tic Tac Toe! \")\n",
    "    user_choice = input(\"What would Player 1 like to be - X or O? : \")\n",
    "    player_1 = ''\n",
    "    player_2 = ''\n",
    "    if user_choice == 'X':\n",
    "        player_1 = 'X'\n",
    "        player_2 = 'O'\n",
    "    else:\n",
    "        player_1 = 'O'\n",
    "        player_2 = 'X'\n",
    "    return(player_1,player_2)\n",
    "    \n",
    "def ask_board_position(user):\n",
    "    place = int(input(\"Which place do you want to play {} : \".format(user)))\n",
    "    return place \n",
    "\n",
    "def game_win(board):\n",
    "     if board[1]=='X' and board[2]=='X' and board[3]=='X':\n",
    "         print('X won')\n",
    "         return True\n",
    "     if board[4]=='X' and board[5]=='X' and board[6]=='X':\n",
    "         print('X won')\n",
    "         return True   \n",
    "     if board[7]=='X' and board[8]=='X' and board[9]=='X':\n",
    "         print('X won')\n",
    "         return True\n",
    "     if board[1]=='X' and board[5]=='X' and board[9]=='X':\n",
    "         print('X won')\n",
    "         return True\n",
    "     if board[7]=='X' and board[5]=='X' and board[3]=='X':\n",
    "         print('X won')\n",
    "         return True\n",
    "     if board[1]=='O' and board[2]=='O' and board[3]=='O':\n",
    "         print('O won')\n",
    "         return True\n",
    "     if board[4]=='O' and board[5]=='O' and board[6]=='O':\n",
    "         print('O won')\n",
    "         return True   \n",
    "     if board[7]=='O' and board[8]=='O' and board[9]=='O':\n",
    "         print('O won')\n",
    "         return True\n",
    "     if board[1]=='O' and board[5]=='O' and board[9]=='O':\n",
    "         print('O won')\n",
    "         return True\n",
    "     if board[7]=='O' and board[5]=='O' and board[3]=='O':\n",
    "         print('O won')\n",
    "         return True\n",
    "\n",
    "\n",
    "def game():\n",
    "    player_1,player_2 = ask_user_X_or_O()\n",
    "    current_player= player_1\n",
    "    board = [1,'','','','','','','','','']\n",
    "    taken_place = list(range(1,10))\n",
    "    while game_win(board)!=True:\n",
    "        place = ask_board_position(current_player)\n",
    "        if place\n",
    "        board[place] = current_player \n",
    "        print(board[7] + '|' + board[8] + '|' + board[9])\n",
    "        print(board[4] + '|' + board[5] + '|' + board[6])\n",
    "        print(board[1] + '|' + board[2] + '|' + board[3])    \n",
    "        if current_player == player_1:\n",
    "            current_player = player_2\n",
    "        else:\n",
    "            current_player = player_1\n",
    "        "
   ]
  },
  {
   "cell_type": "code",
   "execution_count": null,
   "id": "7120be75-ca24-4feb-acb4-76522039a632",
   "metadata": {},
   "outputs": [
    {
     "name": "stdout",
     "output_type": "stream",
     "text": [
      "Welcome to Tic Tac Toe! \n"
     ]
    },
    {
     "name": "stdin",
     "output_type": "stream",
     "text": [
      "What would Player 1 like to be - X or O? :  X\n",
      "Which place do you want to play X :  1\n"
     ]
    },
    {
     "name": "stdout",
     "output_type": "stream",
     "text": [
      "||\n",
      "||\n",
      "X||\n"
     ]
    },
    {
     "name": "stdin",
     "output_type": "stream",
     "text": [
      "Which place do you want to play O :  1\n"
     ]
    },
    {
     "name": "stdout",
     "output_type": "stream",
     "text": [
      "||\n",
      "||\n",
      "O||\n"
     ]
    }
   ],
   "source": [
    "game()"
   ]
  },
  {
   "cell_type": "code",
   "execution_count": null,
   "id": "028ab848-8e53-42ec-86a8-7dd9cddc24ae",
   "metadata": {},
   "outputs": [],
   "source": []
  }
 ],
 "metadata": {
  "kernelspec": {
   "display_name": "Python 3 (ipykernel)",
   "language": "python",
   "name": "python3"
  },
  "language_info": {
   "codemirror_mode": {
    "name": "ipython",
    "version": 3
   },
   "file_extension": ".py",
   "mimetype": "text/x-python",
   "name": "python",
   "nbconvert_exporter": "python",
   "pygments_lexer": "ipython3",
   "version": "3.11.7"
  }
 },
 "nbformat": 4,
 "nbformat_minor": 5
}
