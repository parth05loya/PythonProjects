{
  "nbformat": 4,
  "nbformat_minor": 0,
  "metadata": {
    "colab": {
      "provenance": [],
      "authorship_tag": "ABX9TyNRLR4/KHZUzdwkWIieB2xk",
      "include_colab_link": true
    },
    "kernelspec": {
      "name": "python3",
      "display_name": "Python 3"
    },
    "language_info": {
      "name": "python"
    }
  },
  "cells": [
    {
      "cell_type": "markdown",
      "metadata": {
        "id": "view-in-github",
        "colab_type": "text"
      },
      "source": [
        "<a href=\"https://colab.research.google.com/github/parth05loya/PythonProjects/blob/main/Machine%20Learning/Genetic%20Algorithms/Genetic_Algo_with_Constraints.ipynb\" target=\"_parent\"><img src=\"https://colab.research.google.com/assets/colab-badge.svg\" alt=\"Open In Colab\"/></a>"
      ]
    },
    {
      "cell_type": "code",
      "source": [
        "\n",
        "pip install pygad"
      ],
      "metadata": {
        "colab": {
          "base_uri": "https://localhost:8080/"
        },
        "id": "dhu4P7NcuhpP",
        "outputId": "5c47b861-41d1-4751-94c6-498d55ab50d8"
      },
      "execution_count": null,
      "outputs": [
        {
          "output_type": "stream",
          "name": "stdout",
          "text": [
            "Collecting pygad\n",
            "  Downloading pygad-3.3.1-py3-none-any.whl (84 kB)\n",
            "\u001b[2K     \u001b[90m━━━━━━━━━━━━━━━━━━━━━━━━━━━━━━━━━━━━━━━━\u001b[0m \u001b[32m84.1/84.1 kB\u001b[0m \u001b[31m918.2 kB/s\u001b[0m eta \u001b[36m0:00:00\u001b[0m\n",
            "\u001b[?25hRequirement already satisfied: cloudpickle in /usr/local/lib/python3.10/dist-packages (from pygad) (2.2.1)\n",
            "Requirement already satisfied: matplotlib in /usr/local/lib/python3.10/dist-packages (from pygad) (3.7.1)\n",
            "Requirement already satisfied: numpy in /usr/local/lib/python3.10/dist-packages (from pygad) (1.25.2)\n",
            "Requirement already satisfied: contourpy>=1.0.1 in /usr/local/lib/python3.10/dist-packages (from matplotlib->pygad) (1.2.1)\n",
            "Requirement already satisfied: cycler>=0.10 in /usr/local/lib/python3.10/dist-packages (from matplotlib->pygad) (0.12.1)\n",
            "Requirement already satisfied: fonttools>=4.22.0 in /usr/local/lib/python3.10/dist-packages (from matplotlib->pygad) (4.53.0)\n",
            "Requirement already satisfied: kiwisolver>=1.0.1 in /usr/local/lib/python3.10/dist-packages (from matplotlib->pygad) (1.4.5)\n",
            "Requirement already satisfied: packaging>=20.0 in /usr/local/lib/python3.10/dist-packages (from matplotlib->pygad) (24.1)\n",
            "Requirement already satisfied: pillow>=6.2.0 in /usr/local/lib/python3.10/dist-packages (from matplotlib->pygad) (9.4.0)\n",
            "Requirement already satisfied: pyparsing>=2.3.1 in /usr/local/lib/python3.10/dist-packages (from matplotlib->pygad) (3.1.2)\n",
            "Requirement already satisfied: python-dateutil>=2.7 in /usr/local/lib/python3.10/dist-packages (from matplotlib->pygad) (2.8.2)\n",
            "Requirement already satisfied: six>=1.5 in /usr/local/lib/python3.10/dist-packages (from python-dateutil>=2.7->matplotlib->pygad) (1.16.0)\n",
            "Installing collected packages: pygad\n",
            "Successfully installed pygad-3.3.1\n"
          ]
        }
      ]
    },
    {
      "cell_type": "code",
      "execution_count": 29,
      "metadata": {
        "id": "2NFU1RKizbI_"
      },
      "outputs": [],
      "source": [
        "from typing import Any\n",
        "import numpy as np\n",
        "import math\n",
        "import pygad\n",
        "\n",
        "def fitness_func(ga_instance, solution, solution_idx):\n",
        "  #output function is the objective function which needs to be either maximized or minimized\n",
        "    output = (solution[0] - 2)**2 + (solution[1] - 1)**2\n",
        "   #constraint1 is the first constraint.\n",
        "    constraint1 = solution[0] + solution[1] - 2\n",
        "#constraint2 is the second constraint\n",
        "    constraint2 = solution[0]**2 - solution[1]\n",
        "    #if condition has two parameters where both the constraints are less than 0. This ensures\n",
        "    # that when both the constraints are satisfied only then fitness function is related to\n",
        "    #output. Since it is minimization problem, output is inversely proportional\n",
        "    if constraint1 <=0 and constraint2 <=0:\n",
        "        fitness = 1/(1 + output)\n",
        "    else:\n",
        "      # if the constraints are violated fitness is very low and hence this option is ignored\n",
        "        fitness = -10**4\n",
        "    return fitness\n",
        "\n",
        "#solution is basically an array of variables\n",
        "#output is the function. Use np for doing math such as cosine,\n",
        "#Fitness should be such that it should be maximized. If object function is to minimize, then fitness\n",
        "#should be to 1/(1 + output) else it should be equal to output\n",
        "\n",
        "ga_instance = pygad.GA(sol_per_pop = 200, num_genes = 2, fitness_func = fitness_func,num_generations = 100,init_range_low = [-5,-5],init_range_high = [5,5],mutation_probability=0.1, crossover_probability=0.8,keep_elitism=2,num_parents_mating=5 )\n",
        "\n",
        "#number of genes should be equal to number of variables\n",
        "#low and high range needs to be specified in list if there are multiple variables\n",
        "# These are default values: mutation_probability=0.1, crossover_probability=0.8,keep_elitism=2,num_parents_mating=5\n",
        "\n",
        "ga_instance.run()\n",
        "solution, solution_fitness, solution_idx = ga_instance.best_solution()"
      ]
    },
    {
      "cell_type": "code",
      "source": [
        "solution_idx"
      ],
      "metadata": {
        "colab": {
          "base_uri": "https://localhost:8080/"
        },
        "id": "-LHbFF-6w7Vi",
        "outputId": "35d486e5-138a-4eac-bd8d-2e51b3ac0796"
      },
      "execution_count": null,
      "outputs": [
        {
          "output_type": "execute_result",
          "data": {
            "text/plain": [
              "34"
            ]
          },
          "metadata": {},
          "execution_count": 8
        }
      ]
    },
    {
      "cell_type": "code",
      "source": [
        "solution, solution_fitness, solution_idx = ga_instance.best_solution()\n",
        "print(f\"Fitness value of the best solution = {solution_fitness}\")\n",
        "print(f\"Index of the best solution : {solution_idx}\")\n",
        "print(f\"Best solution : {solution}\")\n",
        "\n",
        "if ga_instance.best_solution_generation != -1:\n",
        "    print(f\"Best fitness value reached after {ga_instance.best_solution_generation} generations.\")\n",
        "\n"
      ],
      "metadata": {
        "id": "RsEgqio0x3Jj",
        "outputId": "1249bbfa-d3d0-44e7-cdc9-fc29121fca9e",
        "colab": {
          "base_uri": "https://localhost:8080/"
        }
      },
      "execution_count": 30,
      "outputs": [
        {
          "output_type": "stream",
          "name": "stdout",
          "text": [
            "Fitness value of the best solution = 0.49913317890858355\n",
            "Index of the best solution : 0\n",
            "Best solution : [0.99827    0.99678855]\n",
            "Best fitness value reached after 42 generations.\n"
          ]
        }
      ]
    }
  ]
}