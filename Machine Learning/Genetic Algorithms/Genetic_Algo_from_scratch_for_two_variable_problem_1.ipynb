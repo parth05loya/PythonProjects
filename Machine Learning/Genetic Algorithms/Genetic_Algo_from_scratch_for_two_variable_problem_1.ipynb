{
  "nbformat": 4,
  "nbformat_minor": 0,
  "metadata": {
    "colab": {
      "provenance": [],
      "authorship_tag": "ABX9TyPJekgMF8LVrr0CccjWDRpX",
      "include_colab_link": true
    },
    "kernelspec": {
      "name": "python3",
      "display_name": "Python 3"
    },
    "language_info": {
      "name": "python"
    }
  },
  "cells": [
    {
      "cell_type": "markdown",
      "metadata": {
        "id": "view-in-github",
        "colab_type": "text"
      },
      "source": [
        "<a href=\"https://colab.research.google.com/github/parth05loya/PythonProjects/blob/main/Machine%20Learning/Genetic%20Algorithms/Genetic_Algo_from_scratch_for_two_variable_problem_1.ipynb\" target=\"_parent\"><img src=\"https://colab.research.google.com/assets/colab-badge.svg\" alt=\"Open In Colab\"/></a>"
      ]
    },
    {
      "cell_type": "code",
      "source": [
        "import pandas as pd\n",
        "import numpy as np\n",
        "import math\n",
        "import random"
      ],
      "metadata": {
        "id": "ko7c4Spr5O7H"
      },
      "execution_count": 2,
      "outputs": []
    },
    {
      "cell_type": "code",
      "execution_count": 82,
      "metadata": {
        "id": "2NFU1RKizbI_"
      },
      "outputs": [],
      "source": [
        "#Defining function\n",
        "def optimization_function(solution):\n",
        "  fun = (solution[0]**2 + solution[1] - 11)**2 + (solution[0] + solution[1]**2 - 7)**2\n",
        "  opt_fun = 1/(1 + fun )\n",
        "  return opt_fun\n",
        "\n",
        "#Defining population\n",
        "def population(population_size, lower, upper):\n",
        "  population1 = [[None]*population_size,[None]*population_size]\n",
        "  for i in range(0,population_size):\n",
        "    population1[0][i] = random.randint(lower[0], upper[0])\n",
        "    population1[1][i] = random.randint(lower[1], upper[1])\n",
        "  return population1\n",
        "\n",
        "#Defining fitness value\n",
        "def fitness(population):\n",
        "  size = len(population[0])\n",
        "#Creating two dimensional array where first two col is population\n",
        "#third col is fitness value\n",
        "  fitness1 = [[None]*size,[None]*size,[None]*size]\n",
        "  input = [None,None]\n",
        "  for i in range(0,len(population[0])):\n",
        "    fitness1[0][i] = population[0][i]\n",
        "    fitness1[1][i] = population[1][i]\n",
        "    input[0] = population[0][i]\n",
        "    input[1] = population[1][i]\n",
        "    fitness1[2][i] = optimization_function(input)\n",
        "  return fitness1\n",
        "\n",
        "#Performing roulette wheel selection\n",
        "def roulette_wheel_selection(fitness1):\n",
        "\n",
        "#Creating a 3D array where first two columns is chromosome, third is fitness and fourth one is actual counts\n",
        "#to be put in selection\n",
        "  size = len(fitness1[0])\n",
        "  roullete_wheel_selection1 = [[None]*size,[None]*size,[None]*size,[None]*size]\n",
        "  for i in range(len(fitness1[1])):\n",
        "    roullete_wheel_selection1[0][i] = fitness1[0][i]\n",
        "    roullete_wheel_selection1[1][i] = fitness1[1][i]\n",
        "    roullete_wheel_selection1[2][i] = fitness1[2][i]\n",
        "    roullete_wheel_selection1[3][i] = np.round((fitness1[2][i]/np.sum(fitness1[2]))*len(fitness1[2]))\n",
        "\n",
        "#Creating new population\n",
        "  new_population = [[None]*size,[None]*size]\n",
        "\n",
        "#Updating the population so that chromosomes with more fitness have more copies\n",
        "  for i in range(len(roullete_wheel_selection1[0])):\n",
        "      new_population[0][i] = roullete_wheel_selection1[0][i]*roullete_wheel_selection1[3][i]\n",
        "      new_population[1][i] = roullete_wheel_selection1[1][i]*roullete_wheel_selection1[3][i]\n",
        "  return new_population\n",
        "\n",
        "\n",
        "\n",
        "#Peforming crossover\n",
        "def crossover(population1, crossover_probability):\n",
        "\n",
        "#Creating two sets of population. one with crossover and another without crossover\n",
        "  split_index = np.round(len(population1[0])*crossover_probability,0)\n",
        "\n",
        "#Shuffling the population\n",
        "  random.shuffle(population1)\n",
        "\n",
        "#First list will be taken for crossover\n",
        "  population_1 = population1[:][:int(split_index)]\n",
        "  population_2 = population1[:][int(split_index):]\n",
        "\n",
        "#Since variables are decimals, crossover can be done using averaging\n",
        "#Splitting population_1 into two equal parts\n",
        "  split_index_1 = int(len(population_1[0])/2)\n",
        "  population_1_1 = population_1[:][:int(split_index_1)]\n",
        "  population_1_2 = population_1[:][int(split_index_1):]\n",
        "\n",
        "#Creating children from above two population\n",
        "  children_1 = [[],[]]\n",
        "  children_2 = [[],[]]\n",
        "  try:\n",
        "    for i in range(0,split_index_1):\n",
        "      children_1[0].append((population_1_1[0][i] + population_1_2[0][i])/2)\n",
        "      children_1[1].append((population_1_1[1][i] + population_1_2[1][i])/2)\n",
        "      children_2[0].append((population_1_1[0][i] + population_1_2[0][i])/2)\n",
        "      children_2[1].append((population_1_1[1][i] + population_1_2[1][i])/2)\n",
        "  except:\n",
        "    pass\n",
        "#Returning final population\n",
        "  final_population = population_2 + children_1 + children_2\n",
        "  return final_population\n",
        "\n",
        "#Performing mutation\n",
        "def mutation(population1, mutation_probability):\n",
        "\n",
        "#shuffling the population\n",
        "  random.shuffle(population1)\n",
        "\n",
        "#Finding population to be mutated\n",
        "  mutated_index = mutation_probability*len(population1[0])\n",
        "\n",
        "#Spliting population in two parts one to be mutated, one not to be\n",
        "  population_1 = population1[:int(mutated_index)]\n",
        "  population_2 = population1[int(mutated_index):]\n",
        "\n",
        "#Mutation is done by randomly adding some value\n",
        "  for i in range(len(population_1)):\n",
        "    population_1[0][i] = population_1[0][i] + np.random.uniform(-1, 1)\n",
        "    population_1[1][i] = population_1[1][i] + np.random.uniform(-1, 1)\n",
        "\n",
        "#Returning the population\n",
        "  final_population = population_1 + population_2\n",
        "  return final_population\n",
        "\n",
        "#Given fitness 2D array it returns the fittest chromosome and its fitness value\n",
        "def find_fittest(fitness1):\n",
        "  fittest_index = np.argmax(fitness1[2])\n",
        "  fittest_chromosome = [fitness1[0][fittest_index],fitness1[1][fittest_index]]\n",
        "  fitness_value = fitness1[2][fittest_index]\n",
        "  return fittest_chromosome, fitness_value\n",
        "\n",
        "#Criteria for termination is when two fitness values are very close to each other\n",
        "def termination(value1, value2):\n",
        "  if np.round(value1,3)==np.round(value2,3):\n",
        "    return True\n",
        "  else:\n",
        "    return False"
      ]
    },
    {
      "cell_type": "code",
      "source": [
        "last_fittest_chromosome = [0,0]\n",
        "last_fitness_value = -1000\n",
        "new_fittest_chromosome = [0,0]\n",
        "new_fitness_value = 0\n",
        "iteration = 0\n",
        "\n",
        "#Decide number of iterations\n",
        "while iteration < 1000 and termination(last_fitness_value,new_fitness_value)==False:\n",
        "\n",
        "#Updates last fitness value with new fitness value\n",
        "  last_fitness_value = new_fitness_value\n",
        "\n",
        "  #Generate random population. Update lower and upper values here\n",
        "  population1 = population(1000, [-6,-6], [6,6])\n",
        "\n",
        "    #Find its fitness value\n",
        "  fitness1 = fitness(population1)\n",
        "\n",
        "    #Identify fittest chromosome and fittest population\n",
        "  new_fittest_chromosome, new_fitness_value = find_fittest(fitness1)\n",
        "\n",
        "  #Do selection\n",
        "  population2 = roulette_wheel_selection(fitness1)\n",
        "\n",
        "  #Do crossover\n",
        "  population3 = crossover(population2, 0.8)\n",
        "\n",
        "  #Do mutation\n",
        "  population4 = mutation(population3, 0.1)\n",
        "\n",
        "  #Repeat from Step 2 until no significant change in new fitness value\n",
        "  iteration += 1\n",
        ""
      ],
      "metadata": {
        "id": "WhneacGp-VYo"
      },
      "execution_count": 83,
      "outputs": []
    },
    {
      "cell_type": "code",
      "source": [
        "#Returns fitness value, fittest chromosome i.e. solution and number of iterations taken\n",
        "new_fitness_value, new_fittest_chromosome, iteration"
      ],
      "metadata": {
        "colab": {
          "base_uri": "https://localhost:8080/"
        },
        "id": "RWb-DXmCDB8I",
        "outputId": "3c8216ca-93f9-43d9-c4ff-4a3c43d61cf7"
      },
      "execution_count": 84,
      "outputs": [
        {
          "output_type": "execute_result",
          "data": {
            "text/plain": [
              "(1.0, [3, 2], 2)"
            ]
          },
          "metadata": {},
          "execution_count": 84
        }
      ]
    },
    {
      "cell_type": "markdown",
      "source": [],
      "metadata": {
        "id": "rGXKsnGqc-VC"
      }
    },
    {
      "cell_type": "code",
      "source": [],
      "metadata": {
        "id": "RObF59Ek5E25"
      },
      "execution_count": null,
      "outputs": []
    }
  ]
}