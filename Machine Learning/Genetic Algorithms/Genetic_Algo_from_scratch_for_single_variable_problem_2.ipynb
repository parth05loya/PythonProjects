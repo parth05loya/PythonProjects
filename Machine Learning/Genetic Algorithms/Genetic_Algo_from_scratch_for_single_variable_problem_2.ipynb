{
  "nbformat": 4,
  "nbformat_minor": 0,
  "metadata": {
    "colab": {
      "provenance": [],
      "authorship_tag": "ABX9TyMiPiDKw5eICWaTiCydunM4",
      "include_colab_link": true
    },
    "kernelspec": {
      "name": "python3",
      "display_name": "Python 3"
    },
    "language_info": {
      "name": "python"
    }
  },
  "cells": [
    {
      "cell_type": "markdown",
      "metadata": {
        "id": "view-in-github",
        "colab_type": "text"
      },
      "source": [
        "<a href=\"https://colab.research.google.com/github/parth05loya/PythonProjects/blob/main/Machine%20Learning/Genetic%20Algorithms/Genetic_Algo_from_scratch_for_single_variable_problem_2.ipynb\" target=\"_parent\"><img src=\"https://colab.research.google.com/assets/colab-badge.svg\" alt=\"Open In Colab\"/></a>"
      ]
    },
    {
      "cell_type": "code",
      "source": [
        "import pandas as pd\n",
        "import numpy as np\n",
        "import math\n",
        "import random"
      ],
      "metadata": {
        "id": "ko7c4Spr5O7H"
      },
      "execution_count": 3,
      "outputs": []
    },
    {
      "cell_type": "code",
      "execution_count": 47,
      "metadata": {
        "id": "2NFU1RKizbI_"
      },
      "outputs": [],
      "source": [
        "#Defining function\n",
        "def optimization_function(solution):\n",
        "  opt_fun =  np.sum(solution**2 + solution)*np.cos(solution) + np.sin(solution**2) + solution**np.sin(solution)\n",
        "  return opt_fun\n",
        "\n",
        "#Defining population\n",
        "def population(population_size, lower, upper):\n",
        "  population1 = np.random.uniform(lower, upper, size=(population_size, 1))\n",
        "  return population1\n",
        "\n",
        "#Defining fitness value\n",
        "def fitness(population):\n",
        "\n",
        "#Creating two dimensional array where first col is population\n",
        "#second col is fitness value\n",
        "  fitness1 = [[],[]]\n",
        "  for i in range(len(population)):\n",
        "    fitness1[0].append(population[i])\n",
        "    fitness1[1].append(optimization_function(population[i]))\n",
        "  return fitness1\n",
        "\n",
        "#Performing roulette wheel selection\n",
        "def roulette_wheel_selection(fitness1):\n",
        "\n",
        "#Creating a 3D array where first row is chromosome, second is fitness and third one is actual counts\n",
        "#to be put in selection\n",
        "\n",
        "  roullete_wheel_selection1 = [[],[],[]]\n",
        "  for i in range(len(fitness1[1])):\n",
        "    roullete_wheel_selection1[0].append(fitness1[0][i])\n",
        "    roullete_wheel_selection1[1].append(fitness1[1][i])\n",
        "    roullete_wheel_selection1[2].append(np.round((fitness1[1][i]/sum(fitness1[1]))*len(fitness1[1])))\n",
        "\n",
        "#Creating new population\n",
        "  new_population = []\n",
        "\n",
        "#Updating the population so that chromosomes with more fitness have more copies\n",
        "  for i in range(len(roullete_wheel_selection1[0])):\n",
        "      new_population.extend(roullete_wheel_selection1[0][i]*roullete_wheel_selection1[2][i])\n",
        "  return new_population\n",
        "\n",
        "\n",
        "\n",
        "#Peforming crossover\n",
        "def crossover(population1, crossover_probability):\n",
        "\n",
        "#Creating two sets of population. one with crossover and another without crossover\n",
        "  split_index = len(population1)*crossover_probability\n",
        "\n",
        "#Shuffling the population\n",
        "  random.shuffle(population1)\n",
        "\n",
        "#First list will be taken for crossover\n",
        "  population_1 = population1[:int(split_index)]\n",
        "  population_2 = population1[int(split_index):]\n",
        "\n",
        "#Since variables are decimals, crossover can be done using averaging\n",
        "#Splitting population_1 into two equal parts\n",
        "  split_index_1 = int(len(population_1)/2)\n",
        "  population_1_1 = population_1[:split_index_1]\n",
        "  population_1_2 = population_1[split_index_1:]\n",
        "\n",
        "#Creating children from above two population\n",
        "  children_1 = []\n",
        "  children_2 = []\n",
        "  for i in range(len(population_1_1)):\n",
        "    children_1.append((population_1_1[i] + population_1_2[i])/2)\n",
        "    children_2.append((population_1_1[i] + population_1_2[i])/2)\n",
        "\n",
        "#Returning final population\n",
        "  final_population = population_2 + children_1 + children_2\n",
        "  return final_population\n",
        "\n",
        "#Performing mutation\n",
        "def mutation(population1, mutation_probability):\n",
        "\n",
        "#shuffling the population\n",
        "  random.shuffle(population1)\n",
        "\n",
        "#Finding population to be mutated\n",
        "  mutated_index = mutation_probability*len(population1)\n",
        "\n",
        "#Spliting population in two parts one to be mutated, one not to be\n",
        "  population_1 = population1[:int(mutated_index)]\n",
        "  population_2 = population1[int(mutated_index):]\n",
        "\n",
        "#Mutation is done by randomly adding some value\n",
        "  for i in range(len(population_1)):\n",
        "    population_1[i] = population_1[i] + np.random.uniform(-1, 1)\n",
        "\n",
        "#Returning the population\n",
        "  final_population = population_1 + population_2\n",
        "  return final_population\n",
        "\n",
        "#Given fitness 2D array it returns the fittest chromosome and its fitness value\n",
        "def find_fittest(fitness1):\n",
        "  fittest_index = np.argmax(fitness1[1])\n",
        "  fittest_chromosome = fitness1[0][fittest_index]\n",
        "  fitness_value = fitness1[1][fittest_index]\n",
        "  return fittest_chromosome, fitness_value\n",
        "\n",
        "#Criteria for termination is when two values are very close to each other\n",
        "def termination(value1, value2):\n",
        "  if np.round(value1,3)==np.round(value2,3):\n",
        "    return True\n",
        "  else:\n",
        "    return False"
      ]
    },
    {
      "cell_type": "code",
      "source": [
        "last_fittest_chromosome = 0\n",
        "last_fitness_value = -1000\n",
        "new_fittest_chromosome = 0\n",
        "new_fitness_value = 0\n",
        "iteration = 0\n",
        "\n",
        "#Decide number of iterations\n",
        "while iteration < 1000 and termination(last_fitness_value,new_fitness_value)==False:\n",
        "\n",
        "#Updates last fitness value with new fitness value\n",
        "  last_fitness_value = new_fitness_value\n",
        "\n",
        "  #Generate random population. Update lower and upper values here\n",
        "  population1 = population(1000, 0, 100)\n",
        "\n",
        "    #Find its fitness value\n",
        "  fitness1 = fitness(population1)\n",
        "\n",
        "    #Identify fittest chromosome and fittest population\n",
        "  new_fittest_chromosome, new_fitness_value = find_fittest(fitness1)\n",
        "\n",
        "  #Do selection\n",
        "  population2 = roulette_wheel_selection(fitness1)\n",
        "\n",
        "  #Do crossover\n",
        "  population3 = crossover(population2, 0.8)\n",
        "\n",
        "  #Do mutation\n",
        "  population4 = mutation(population3, 0.1)\n",
        "\n",
        "  #Repeat from Step 2 until no significant change in new fitness value\n",
        "  iteration += 1\n",
        ""
      ],
      "metadata": {
        "colab": {
          "base_uri": "https://localhost:8080/",
          "height": 358
        },
        "id": "WhneacGp-VYo",
        "outputId": "8bded736-3635-43aa-afe6-457b142be028"
      },
      "execution_count": 50,
      "outputs": [
        {
          "output_type": "error",
          "ename": "KeyboardInterrupt",
          "evalue": "",
          "traceback": [
            "\u001b[0;31m---------------------------------------------------------------------------\u001b[0m",
            "\u001b[0;31mKeyboardInterrupt\u001b[0m                         Traceback (most recent call last)",
            "\u001b[0;32m<ipython-input-50-778dc1c7682b>\u001b[0m in \u001b[0;36m<cell line: 8>\u001b[0;34m()\u001b[0m\n\u001b[1;32m     21\u001b[0m \u001b[0;34m\u001b[0m\u001b[0m\n\u001b[1;32m     22\u001b[0m   \u001b[0;31m#Do selection\u001b[0m\u001b[0;34m\u001b[0m\u001b[0;34m\u001b[0m\u001b[0m\n\u001b[0;32m---> 23\u001b[0;31m   \u001b[0mpopulation2\u001b[0m \u001b[0;34m=\u001b[0m \u001b[0mroulette_wheel_selection\u001b[0m\u001b[0;34m(\u001b[0m\u001b[0mfitness1\u001b[0m\u001b[0;34m)\u001b[0m\u001b[0;34m\u001b[0m\u001b[0;34m\u001b[0m\u001b[0m\n\u001b[0m\u001b[1;32m     24\u001b[0m \u001b[0;34m\u001b[0m\u001b[0m\n\u001b[1;32m     25\u001b[0m   \u001b[0;31m#Do crossover\u001b[0m\u001b[0;34m\u001b[0m\u001b[0;34m\u001b[0m\u001b[0m\n",
            "\u001b[0;32m<ipython-input-47-8ca8aff7cfad>\u001b[0m in \u001b[0;36mroulette_wheel_selection\u001b[0;34m(fitness1)\u001b[0m\n\u001b[1;32m     30\u001b[0m     \u001b[0mroullete_wheel_selection1\u001b[0m\u001b[0;34m[\u001b[0m\u001b[0;36m0\u001b[0m\u001b[0;34m]\u001b[0m\u001b[0;34m.\u001b[0m\u001b[0mappend\u001b[0m\u001b[0;34m(\u001b[0m\u001b[0mfitness1\u001b[0m\u001b[0;34m[\u001b[0m\u001b[0;36m0\u001b[0m\u001b[0;34m]\u001b[0m\u001b[0;34m[\u001b[0m\u001b[0mi\u001b[0m\u001b[0;34m]\u001b[0m\u001b[0;34m)\u001b[0m\u001b[0;34m\u001b[0m\u001b[0;34m\u001b[0m\u001b[0m\n\u001b[1;32m     31\u001b[0m     \u001b[0mroullete_wheel_selection1\u001b[0m\u001b[0;34m[\u001b[0m\u001b[0;36m1\u001b[0m\u001b[0;34m]\u001b[0m\u001b[0;34m.\u001b[0m\u001b[0mappend\u001b[0m\u001b[0;34m(\u001b[0m\u001b[0mfitness1\u001b[0m\u001b[0;34m[\u001b[0m\u001b[0;36m1\u001b[0m\u001b[0;34m]\u001b[0m\u001b[0;34m[\u001b[0m\u001b[0mi\u001b[0m\u001b[0;34m]\u001b[0m\u001b[0;34m)\u001b[0m\u001b[0;34m\u001b[0m\u001b[0;34m\u001b[0m\u001b[0m\n\u001b[0;32m---> 32\u001b[0;31m     \u001b[0mroullete_wheel_selection1\u001b[0m\u001b[0;34m[\u001b[0m\u001b[0;36m2\u001b[0m\u001b[0;34m]\u001b[0m\u001b[0;34m.\u001b[0m\u001b[0mappend\u001b[0m\u001b[0;34m(\u001b[0m\u001b[0mnp\u001b[0m\u001b[0;34m.\u001b[0m\u001b[0mround\u001b[0m\u001b[0;34m(\u001b[0m\u001b[0;34m(\u001b[0m\u001b[0mfitness1\u001b[0m\u001b[0;34m[\u001b[0m\u001b[0;36m1\u001b[0m\u001b[0;34m]\u001b[0m\u001b[0;34m[\u001b[0m\u001b[0mi\u001b[0m\u001b[0;34m]\u001b[0m\u001b[0;34m/\u001b[0m\u001b[0msum\u001b[0m\u001b[0;34m(\u001b[0m\u001b[0mfitness1\u001b[0m\u001b[0;34m[\u001b[0m\u001b[0;36m1\u001b[0m\u001b[0;34m]\u001b[0m\u001b[0;34m)\u001b[0m\u001b[0;34m)\u001b[0m\u001b[0;34m*\u001b[0m\u001b[0mlen\u001b[0m\u001b[0;34m(\u001b[0m\u001b[0mfitness1\u001b[0m\u001b[0;34m[\u001b[0m\u001b[0;36m1\u001b[0m\u001b[0;34m]\u001b[0m\u001b[0;34m)\u001b[0m\u001b[0;34m)\u001b[0m\u001b[0;34m)\u001b[0m\u001b[0;34m\u001b[0m\u001b[0;34m\u001b[0m\u001b[0m\n\u001b[0m\u001b[1;32m     33\u001b[0m \u001b[0;34m\u001b[0m\u001b[0m\n\u001b[1;32m     34\u001b[0m \u001b[0;31m#Creating new population\u001b[0m\u001b[0;34m\u001b[0m\u001b[0;34m\u001b[0m\u001b[0m\n",
            "\u001b[0;31mKeyboardInterrupt\u001b[0m: "
          ]
        }
      ]
    },
    {
      "cell_type": "code",
      "source": [
        "#Returns fitness value, fittest chromosome i.e. solution and number of iterations taken\n",
        "new_fitness_value, new_fittest_chromosome, iteration"
      ],
      "metadata": {
        "colab": {
          "base_uri": "https://localhost:8080/"
        },
        "id": "RWb-DXmCDB8I",
        "outputId": "f8fe473c-f8a7-42d8-f546-1cf3463d090b"
      },
      "execution_count": 51,
      "outputs": [
        {
          "output_type": "execute_result",
          "data": {
            "text/plain": [
              "(array([8976.53092533]), array([94.30076883]), 153)"
            ]
          },
          "metadata": {},
          "execution_count": 51
        }
      ]
    },
    {
      "cell_type": "code",
      "source": [],
      "metadata": {
        "id": "W6MB1IsgNuSE"
      },
      "execution_count": null,
      "outputs": []
    },
    {
      "cell_type": "markdown",
      "source": [],
      "metadata": {
        "id": "rGXKsnGqc-VC"
      }
    }
  ]
}