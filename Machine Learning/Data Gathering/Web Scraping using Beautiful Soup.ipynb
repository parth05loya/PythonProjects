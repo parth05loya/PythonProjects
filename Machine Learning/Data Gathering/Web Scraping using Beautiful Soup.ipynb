{
 "cells": [
  {
   "cell_type": "code",
   "execution_count": 1,
   "id": "d528bea8-be48-4319-b698-b253cd066c27",
   "metadata": {},
   "outputs": [],
   "source": [
    "import pandas as pd\n",
    "import requests\n",
    "from bs4 import BeautifulSoup\n",
    "import numpy as np"
   ]
  },
  {
   "cell_type": "code",
   "execution_count": 143,
   "id": "46981cfc-9107-4688-96fb-b03eab0929f2",
   "metadata": {},
   "outputs": [],
   "source": [
    "company_name = []\n",
    "experience = []\n",
    "location = []\n",
    "salary = []\n",
    "title = []\n",
    "for j in range(1,12):\n",
    "    url = 'https://www.timesjobs.com/jobs-in-hyderabad/python-jobs/&sequence={}&startPage=1'.format(j)\n",
    "    headers = {'User-Agent': 'Mozilla/5.0 (Macintosh; Intel Mac OS X 10_10_1) AppleWebKit/537.36 (KHTML, like Gecko) Chrome/39.0.2171.95 Safari/537.36'}\n",
    "    response = requests.get(url, headers=headers).text\n",
    "    soup = BeautifulSoup(response, 'lxml')      \n",
    "    job_listings = soup.find_all('li', class_ = 'clearfix joblistli')\n",
    "    for job in job_listings:\n",
    "        #Extract job title\n",
    "        title1 = job.find('h2').find('a').text.strip().replace('\\n','').replace('\\t','').strip()\n",
    "        title.append(title1)\n",
    "        # Extract company name\n",
    "        company = job.find('h3', class_='joblist-comp-name').text.strip().replace('\\n', '').replace('\\t', '').strip()\n",
    "        company_name.append(company)\n",
    "        # Extract experience required\n",
    "        experience1 = job.find('ul', class_='job-more-dtl clearfix').find('li').text.strip().replace('\\n', '').replace('\\t', '').strip()\n",
    "        experience.append(experience1)\n",
    "        # Extract location\n",
    "        location1 = job.find('ul', class_='job-more-dtl clearfix').find_all('li')[2].text.strip()\n",
    "        location.append(location1)\n",
    "        #Extract Salary\n",
    "        salary1 = job.find('ul', class_='job-more-dtl clearfix').find_all('li')[1].text.strip()\n",
    "        salary.append(salary1)\n",
    "\n",
    "data = pd.DataFrame({\"Title\":title, \"Company\":company_name, \"Experience\":experience, \"Location\":location, \"Salary\":salary})\n"
   ]
  },
  {
   "cell_type": "code",
   "execution_count": 146,
   "id": "b6c1b135-7ab1-4292-b783-414dfa2ed86e",
   "metadata": {},
   "outputs": [],
   "source": [
    "data.to_csv('python_jobs_times.csv')"
   ]
  },
  {
   "cell_type": "code",
   "execution_count": null,
   "id": "e814bf73-d969-4221-bddd-2589f5be2944",
   "metadata": {},
   "outputs": [],
   "source": []
  }
 ],
 "metadata": {
  "kernelspec": {
   "display_name": "Python 3 (ipykernel)",
   "language": "python",
   "name": "python3"
  },
  "language_info": {
   "codemirror_mode": {
    "name": "ipython",
    "version": 3
   },
   "file_extension": ".py",
   "mimetype": "text/x-python",
   "name": "python",
   "nbconvert_exporter": "python",
   "pygments_lexer": "ipython3",
   "version": "3.11.7"
  }
 },
 "nbformat": 4,
 "nbformat_minor": 5
}
