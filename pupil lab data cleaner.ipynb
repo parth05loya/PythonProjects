{
  "nbformat": 4,
  "nbformat_minor": 0,
  "metadata": {
    "colab": {
      "provenance": []
    },
    "kernelspec": {
      "name": "python3",
      "display_name": "Python 3"
    },
    "language_info": {
      "name": "python"
    }
  },
  "cells": [
    {
      "cell_type": "code",
      "execution_count": null,
      "metadata": {
        "id": "5XWBN1zdLndq"
      },
      "outputs": [],
      "source": [
        "import pandas as pd\n",
        "\n",
        "# Step 1: Load data\n",
        "blinks = pd.read_csv('blinks.csv')\n",
        "events = pd.read_csv('events.csv')\n",
        "fixations = pd.read_csv('fixations.csv')\n",
        "\n",
        "# Step 2: Helper function to get event start and end time\n",
        "def get_event_times(events_df, internal_event_name):\n",
        "    start_event = f\"{internal_event_name} start\"\n",
        "    end_event = f\"{internal_event_name} end\"\n",
        "    try:\n",
        "        start_time = events_df[events_df['name'] == start_event]['timestamp [ns]'].values[0]\n",
        "        end_time = events_df[events_df['name'] == end_event]['timestamp [ns]'].values[0]\n",
        "        return start_time, end_time\n",
        "    except IndexError:\n",
        "        return None, None\n",
        "\n",
        "# Step 3: Event name mapping (for display name to internal file name)\n",
        "event_name_mapping = {\n",
        "    'billboard': 'billboard',\n",
        "    'car following': 'cf',           # Important fix here!\n",
        "    'pedestrian': 'ped',\n",
        "    'road closure': 'road',\n",
        "    'gap acceptance': 'gap',\n",
        "    'no event': 'no event'\n",
        "}\n",
        "\n",
        "# Step 4: Get drive start and recording end times\n",
        "recording_start = events[events['name'] == 'drive start']['timestamp [ns]'].values[0]\n",
        "recording_end = events[events['name'] == 'recording.end']['timestamp [ns]'].values[0]\n",
        "\n",
        "# Step 5: Loop through each event and calculate blinks and fixations\n",
        "summary = []\n",
        "\n",
        "for event_display_name in ['entire record'] + list(event_name_mapping.keys()):\n",
        "    if event_display_name == 'entire record':\n",
        "        start_time = recording_start\n",
        "        end_time = recording_end\n",
        "    else:\n",
        "        internal_name = event_name_mapping[event_display_name]\n",
        "        start_time, end_time = get_event_times(events, internal_name)\n",
        "\n",
        "    if start_time is None or end_time is None:\n",
        "        continue\n",
        "\n",
        "    blinks_in_event = blinks[(blinks['start timestamp [ns]'] >= start_time) & (blinks['end timestamp [ns]'] <= end_time)]\n",
        "    fixations_in_event = fixations[(fixations['start timestamp [ns]'] >= start_time) & (fixations['end timestamp [ns]'] <= end_time)]\n",
        "\n",
        "    num_blinks = len(blinks_in_event)\n",
        "    num_fixations = len(fixations_in_event)\n",
        "    avg_fix_duration = fixations_in_event['duration [ms]'].mean() if num_fixations > 0 else 0\n",
        "\n",
        "    summary.append({\n",
        "        'Event': event_display_name,\n",
        "        'Number of Blinks': num_blinks,\n",
        "        'Number of Fixations': num_fixations,\n",
        "        'Average Fixation Duration (ms)': avg_fix_duration\n",
        "    })\n",
        "\n",
        "# Step 6: Final summary table\n",
        "summary_df_corrected = pd.DataFrame(summary)\n",
        "\n",
        "# (Optional) Save to Excel if needed\n",
        "summary_df_corrected.to_excel('event_summary.xlsx', index=False)\n"
      ]
    },
    {
      "cell_type": "code",
      "source": [],
      "metadata": {
        "id": "u-rCpwRvLo_c"
      },
      "execution_count": null,
      "outputs": []
    }
  ]
}